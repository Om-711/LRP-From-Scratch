import torch
import numpy as np
import matplotlib.pyplot as plt
import seaborn as sns

def lrp_explainer_astgcn(model, batch, plot_top_k=5):
    device = batch['features'].device
    model.train()  # Use eval mode during explanations

    # Clone and enable gradients on features
    features = batch['features'].clone().detach().to(device).requires_grad_(True)
    batch = batch.copy()
    batch['features'] = features  

    # Forward pass
    output = model(batch)

    # Collapse output to scalar for relevance backpropagation
    loss = output.sum()
    model.zero_grad()
    loss.backward()

    # Local Relevance Propagation: R = ∂output/∂x * x
    R = (features.grad * features).detach().cpu().numpy()
    print("R shape", R.shape)

    # Shape check and squeeze batch dimension if present
    if R.ndim == 4:
        R = R[0]  # Shape: [T, N, F]

    # Compute feature-wise and node-wise relevance
    feature_relevance = R.mean(axis=(0, 1))  # Average over nodes and time
    node_relevance = R.mean(axis=(0, 2))     # Average over features and time

    # Plotting Feature-wise Relevance
    feature_names = [
        'COMMERCIAL ZONE',
        'INDUSTRIAL ZONE',
        'PM2.5',
        'RESIDENTIAL ZONE',
        'Speed',
        'TEMP.',
        'TRANSPORT & COMMUNICATION ZONE',
        'humidity',
        'winddir',
        'windspeed'
    ]

       
    ignore_name = "PM2.5"
    
    # build a mask of the indices to keep
    keep_idxs = [i for i,n in enumerate(feature_names) if n != ignore_name]
    
    # use numpy indexing to filter
    relevance_filtered = feature_relevance[keep_idxs]
    names_filtered     = [feature_names[i] for i in keep_idxs]
    
    # plot as before
    plt.figure(figsize=(10,4))
    plt.bar(range(len(relevance_filtered)), relevance_filtered)
    plt.xticks(
        ticks=range(len(relevance_filtered)),
        labels=names_filtered,
        rotation=45, ha="right"
    )
    plt.xlabel("Feature")
    plt.ylabel("Average LRP Relevance")
    plt.tight_layout()
    plt.savefig('LRP wise feature importance.png', dpi=300)
    plt.show()

    return R, node_relevance, feature_relevance
